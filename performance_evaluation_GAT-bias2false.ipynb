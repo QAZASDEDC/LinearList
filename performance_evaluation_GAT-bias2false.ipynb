{
 "cells": [
  {
   "cell_type": "markdown",
   "metadata": {},
   "source": [
    "# 2022.3.31"
   ]
  },
  {
   "cell_type": "code",
   "execution_count": 1,
   "metadata": {},
   "outputs": [],
   "source": [
    "DATASET = \"../dataset/MMS.csv\"\n",
    "TOPOLOGY = \"../dataset/MMS_topology.pk\"\n",
    "RESULT=\"../topomad-1-results/MMS_GAT\"\n",
    "NAME=\"performance_evaluation_GAT\""
   ]
  },
  {
   "cell_type": "code",
   "execution_count": 2,
   "metadata": {},
   "outputs": [],
   "source": [
    "import pandas as pd\n",
    "from graph_lstm_vae_ad_ver6 import GraphLSTM_VAE_AD\n",
    "from graph_lstm_vae_ad_ver6 import GraphLSTM_VAE\n",
    "import matplotlib.pyplot as plt\n",
    "from sklearn.metrics import roc_auc_score\n",
    "import numpy as np\n",
    "import os\n",
    "import pickle\n",
    "import time\n",
    "os.environ[\"CUDA_VISIBLE_DEVICES\"] = \"1\"\n",
    "gpu_choice =1"
   ]
  },
  {
   "cell_type": "markdown",
   "metadata": {},
   "source": [
    "# 读数据"
   ]
  },
  {
   "cell_type": "code",
   "execution_count": 3,
   "metadata": {},
   "outputs": [],
   "source": [
    "data = pd.read_csv(DATASET, header=[0,1])"
   ]
  },
  {
   "cell_type": "markdown",
   "metadata": {},
   "source": [
    "# 参数"
   ]
  },
  {
   "cell_type": "code",
   "execution_count": 4,
   "metadata": {},
   "outputs": [],
   "source": [
    "seq_len = 10\n",
    "num_epo = 150\n",
    "hid_dim = 3\n",
    "lea_rat = 1e-4\n",
    "nod_num = 50\n",
    "sam_num = 20\n",
    "del_tol = 5\n",
    "tra_siz = len(data)//3*2"
   ]
  },
  {
   "cell_type": "markdown",
   "metadata": {},
   "source": [
    "# 预处理标准化"
   ]
  },
  {
   "cell_type": "code",
   "execution_count": 5,
   "metadata": {},
   "outputs": [
    {
     "name": "stderr",
     "output_type": "stream",
     "text": [
      "/home/user/anaconda3/lib/python3.7/site-packages/pandas/core/generic.py:3936: PerformanceWarning: dropping on a non-lexsorted multi-index without a level parameter may impact performance.\n",
      "  obj = obj._drop_axis(labels, axis, level=level, errors=errors)\n"
     ]
    }
   ],
   "source": [
    "metric = data.drop(['TimeStamp', 'label'], axis = 1)\n",
    "metric.columns.names = ['pod','metric']\n",
    "tempm = metric.swaplevel('metric','pod',axis=1).stack()\n",
    "tempm = (tempm-tempm.mean())/(tempm.std())\n",
    "metric = tempm.unstack().swaplevel('metric','pod',axis=1).stack().unstack()"
   ]
  },
  {
   "cell_type": "markdown",
   "metadata": {},
   "source": [
    "# 读拓扑"
   ]
  },
  {
   "cell_type": "code",
   "execution_count": 6,
   "metadata": {},
   "outputs": [],
   "source": [
    "with open(TOPOLOGY, 'rb') as f:\n",
    "    edge_index = pickle.load(f)"
   ]
  },
  {
   "cell_type": "markdown",
   "metadata": {},
   "source": [
    "# 训练VAE"
   ]
  },
  {
   "cell_type": "code",
   "execution_count": 7,
   "metadata": {
    "scrolled": true
   },
   "outputs": [
    {
     "name": "stdout",
     "output_type": "stream",
     "text": [
      "Epoch [150/150], Iter [60/63], total_loss: -3114.8696, recon_loss: -3238.7993, kl_loss: 123.9297\n",
      "valid_loss: [1902.1098542390046, 1890.4664351851852, 1889.5215612340855, 1885.2240532769097, 1879.4786150896991, 1873.1315872757523, 1866.0548909505208, 1858.4723036024307, 1845.4592511212384, 1827.916173864294, 1813.3403998480903, 1793.9379837601273, 1771.5801775896991, 1742.875244140625, 1711.5475893373844, 1676.6402587890625, 1641.4442862051505, 1600.7612937644676, 1555.3116274233219, 1510.1193305121528, 1455.3534839771412, 1408.0105116102432, 1358.836999963831, 1298.3535698784722, 1240.638888888889, 1181.785201461227, 1124.8612173574943, 1061.206251356337, 1002.1657986111111, 938.7252061631945, 874.2631655092592, 812.7039930555555, 749.9189724392361, 684.8127667462385, 622.4729150842737, 558.4577444571036, 497.4254059968171, 435.58810537832755, 376.5621891728154, 317.76789403844765, 257.20814231589986, 197.52807843243633, 142.19314900151005, 88.66382683648004, 31.947635014851887, -21.271548023930304, -75.4327722478796, -127.79210055315936, -179.45623072871456, -228.51922833478008, -278.8944357412833, -328.7539678502966, -376.9344601101345, -421.2921080412688, -469.3240808557581, -512.1346288610388, -557.9613138834635, -603.4860139069734, -644.1318969726562, -689.0302417896412, -727.5979682074653, -770.1524567780672, -808.6003847475405, -847.2685998987268, -886.765071162471, -924.0408912941261, -964.9733592845776, -998.5629995840567, -1032.7650417751736, -1068.9880348488136, -1103.8799528899017, -1141.109085648148, -1173.9801613136574, -1206.389779550058, -1238.895236545139, -1272.6860848885995, -1306.6292724609375, -1335.016918041088, -1366.7289993851273, -1398.4394666883682, -1425.4300491898148, -1456.773523401331, -1486.6675211588542, -1515.9051061559605, -1540.396081995081, -1568.0713026258682, -1600.1340874565972, -1628.447464554398, -1653.9472611038773, -1679.3863796657986, -1710.7391628689236, -1734.1485188802083, -1758.4026285807292, -1782.6202618634259, -1811.1110523365162, -1833.6846336082176, -1859.9984266493057, -1884.4207221137153, -1911.3064507378472, -1934.2503842954281, -1961.6702293113426, -1984.6692979600693, -2004.4672896773727, -2031.4066569010417, -2056.041951497396, -2074.422462745949, -2097.7233660662614, -2121.52471697772, -2140.9521800853586, -2164.792611581308, -2187.7202238859954, -2213.990388093171, -2228.4578721788193, -2249.587831850405, -2270.5516493055557, -2292.045021339699, -2314.2817111545137, -2333.404767071759, -2355.1529947916665, -2377.185637297454, -2395.0858742042824, -2414.9533781828704, -2439.119014033565, -2460.552734375, -2473.2373679832176, -2499.6970847800926, -2513.9933720341437, -2532.1193576388887, -2550.932273582176, -2575.284595630787, -2592.415681061921, -2608.9746455439813, -2628.6249909577546, -2645.8279893663193, -2660.996726707176, -2681.50646520544, -2699.0802137586807, -2718.008888527199, -2735.293402777778, -2758.4305555555557, -2771.106535734954, -2785.0840476707176, -2809.226960358796, -2821.3491572627313, -2836.5273166232637, -2856.4094871238426, -2868.6442238136574, -2890.809497974537, -2907.804126880787]\n"
     ]
    },
    {
     "data": {
      "image/png": "[encoded data removed]",
      "text/plain": [
       "<Figure size 432x288 with 4 Axes>"
      ]
     },
     "metadata": {
      "needs_background": "light"
     },
     "output_type": "display_data"
    },
    {
     "name": "stderr",
     "output_type": "stream",
     "text": [
      "100%|██████████| 63/63 [00:32<00:00,  1.93it/s]\n",
      "100%|██████████| 27/27 [00:04<00:00,  5.41it/s]\n",
      "/home/user/hzl/bishe-mms/faster/graph_lstm_vae_ad_ver6/graphlstm_vae_ad.py:234: SettingWithCopyWarning: \n",
      "A value is trying to be set on a copy of a slice from a DataFrame\n",
      "\n",
      "See the caveats in the documentation: https://pandas.pydata.org/pandas-docs/stable/user_guide/indexing.html#returning-a-view-versus-a-copy\n",
      "  X.interpolate(inplace=True)\n",
      "/home/user/anaconda3/lib/python3.7/site-packages/pandas/core/frame.py:4153: SettingWithCopyWarning: \n",
      "A value is trying to be set on a copy of a slice from a DataFrame\n",
      "\n",
      "See the caveats in the documentation: https://pandas.pydata.org/pandas-docs/stable/user_guide/indexing.html#returning-a-view-versus-a-copy\n",
      "  downcast=downcast,\n",
      "100%|██████████| 46/46 [02:28<00:00,  3.23s/it]\n",
      "100%|██████████| 91/91 [05:14<00:00,  3.46s/it]\n",
      "/home/user/hzl/bishe-mms/faster/graph_lstm_vae_ad_ver6/graphlstm_vae_ad.py:308: SettingWithCopyWarning: \n",
      "A value is trying to be set on a copy of a slice from a DataFrame\n",
      "\n",
      "See the caveats in the documentation: https://pandas.pydata.org/pandas-docs/stable/user_guide/indexing.html#returning-a-view-versus-a-copy\n",
      "  X.interpolate(inplace=True)\n",
      "100%|██████████| 46/46 [00:09<00:00,  4.95it/s]\n"
     ]
    }
   ],
   "source": [
    "#checklist：ver，name，seedi，filename\n",
    "from sklearn.metrics import average_precision_score\n",
    "import pickle\n",
    "aps = []\n",
    "maps = []\n",
    "traintime150s = []\n",
    "testtimes = []\n",
    "for seedi in range(5):\n",
    "    model = GraphLSTM_VAE_AD(name=NAME+\"VAE\", sequence_length=seq_len, num_epochs=num_epo, hidden_dim=hid_dim, lr=lea_rat, gpu = gpu_choice, variational = True, kind = 'GAT',seed=seedi, head=(8,8),dropout=(0.4,0.4), bias=(True, False))\n",
    "    traintime150_start=time.time()\n",
    "    model.fit(metric[:tra_siz],nod_num, edge_index)\n",
    "    traintime150_end=time.time()\n",
    "    traintime150s.append(traintime150_end-traintime150_start)\n",
    "    \n",
    "    testtime_start=time.time()\n",
    "    pred = model.predict(metric[tra_siz:],nod_num, edge_index, sam_num, del_tol)[1]\n",
    "    testtime_end=time.time()\n",
    "    testtimes.append(testtime_end-testtime_start)\n",
    "    \n",
    "    \n",
    "    pred_t = model.predict(metric[:tra_siz], nod_num, edge_index, sam_num, del_tol)[1]\n",
    "    itp=model.interpret(metric[tra_siz:],nod_num, edge_index, sam_num, del_tol)\n",
    "    \n",
    "    ap = average_precision_score(data['label'][tra_siz+seq_len-del_tol:],pred)\n",
    "    aps.append(ap)\n",
    "    \n",
    "    mapp = np.mean((average_precision_score(data['label'][tra_siz+seq_len-del_tol:],pred), average_precision_score(1-data['label'][tra_siz+seq_len-del_tol:],-pred)))\n",
    "    maps.append(mapp)"
   ]
  },
  {
   "cell_type": "code",
   "execution_count": 8,
   "metadata": {},
   "outputs": [
    {
     "name": "stdout",
     "output_type": "stream",
     "text": [
      "[0.4462160801927483, 0.44372309041878705, 0.44660133686480613, 0.4336803893331019, 0.44448847595533636]\n",
      "[0.7017540271888626, 0.7001474716919016, 0.703124354838257, 0.6950519193362847, 0.7026275175784651]\n"
     ]
    }
   ],
   "source": [
    "print(aps)\n",
    "print(maps)"
   ]
  },
  {
   "cell_type": "code",
   "execution_count": 9,
   "metadata": {},
   "outputs": [
    {
     "data": {
      "text/plain": [
       "0.7005410581267542"
      ]
     },
     "execution_count": 9,
     "metadata": {},
     "output_type": "execute_result"
    }
   ],
   "source": [
    "np.mean(maps)"
   ]
  },
  {
   "cell_type": "code",
   "execution_count": 10,
   "metadata": {},
   "outputs": [
    {
     "data": {
      "text/plain": [
       "0.4429418745529559"
      ]
     },
     "execution_count": 10,
     "metadata": {},
     "output_type": "execute_result"
    }
   ],
   "source": [
    "np.mean(aps)"
   ]
  },
  {
   "cell_type": "code",
   "execution_count": 11,
   "metadata": {},
   "outputs": [
    {
     "name": "stdout",
     "output_type": "stream",
     "text": [
      "[5691.759789466858, 5663.735559225082, 5544.284799575806, 5504.859639167786, 5543.792522907257]\n"
     ]
    }
   ],
   "source": [
    "print(traintime150s)"
   ]
  },
  {
   "cell_type": "code",
   "execution_count": 12,
   "metadata": {},
   "outputs": [
    {
     "data": {
      "text/plain": [
       "93.16144103447596"
      ]
     },
     "execution_count": 12,
     "metadata": {},
     "output_type": "execute_result"
    }
   ],
   "source": [
    "np.mean(traintime150s)/60"
   ]
  },
  {
   "cell_type": "code",
   "execution_count": null,
   "metadata": {},
   "outputs": [],
   "source": []
  },
  {
   "cell_type": "code",
   "execution_count": null,
   "metadata": {},
   "outputs": [],
   "source": []
  }
 ],
 "metadata": {
  "kernelspec": {
   "display_name": "Python 3",
   "language": "python",
   "name": "python3"
  },
  "language_info": {
   "codemirror_mode": {
    "name": "ipython",
    "version": 3
   },
   "file_extension": ".py",
   "mimetype": "text/x-python",
   "name": "python",
   "nbconvert_exporter": "python",
   "pygments_lexer": "ipython3",
   "version": "3.7.6"
  }
 },
 "nbformat": 4,
 "nbformat_minor": 4
}
