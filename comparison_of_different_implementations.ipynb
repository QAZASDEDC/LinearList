{
 "cells": [
  {
   "cell_type": "code",
   "execution_count": 2,
   "metadata": {},
   "outputs": [
    {
     "name": "stdout",
     "output_type": "stream",
     "text": [
      "0.5537045001983643\n"
     ]
    }
   ],
   "source": [
    "import torch\n",
    "import torch.nn as nn\n",
    "import time\n",
    "\n",
    "batch_size = 32\n",
    "num_linears = 10000\n",
    "input_dim = 7\n",
    "output_dim = 7\n",
    "\n",
    "ll = nn.ModuleList([nn.Linear(input_dim, output_dim, bias=False) for i in range(num_linears)]).to(\"cuda:0\")\n",
    "                         \n",
    "def deal_list(module_list, x):\n",
    "    '''\n",
    "    x: input with shape [batch_size, num_linears, input_dim]\n",
    "    y: output with shape [batch_size, num_linears, input_dim]\n",
    "    '''\n",
    "    x = x.permute(1, 0, 2).contiguous()\n",
    "    outputs = []\n",
    "    for i,l in enumerate(module_list):\n",
    "        output = l(x[i])\n",
    "        outputs.append(output)\n",
    "    y = torch.stack(outputs, 1)\n",
    "    return y\n",
    "\n",
    "begin = time.time()\n",
    "x = torch.ones(batch_size, num_linears, input_dim).to(\"cuda:0\")\n",
    "y = deal_list(ll, x)\n",
    "end = time.time()\n",
    "print(end-begin)"
   ]
  },
  {
   "cell_type": "code",
   "execution_count": 4,
   "metadata": {},
   "outputs": [
    {
     "name": "stdout",
     "output_type": "stream",
     "text": [
      "0.002701997756958008\n"
     ]
    }
   ],
   "source": [
    "import torch\n",
    "import torch.nn as nn\n",
    "from LinearList import LinearList\n",
    "import time\n",
    "\n",
    "batch_size = 32\n",
    "num_linears = 10000\n",
    "input_dim = 7\n",
    "output_dim = 7\n",
    "\n",
    "ll = LinearList(input_dim, output_dim, num_linears).to(\"cuda:0\")\n",
    "                         \n",
    "def deal_list_faster(module_list, x):\n",
    "    '''\n",
    "    x: input with shape [batch_size, num_linears, input_dim]\n",
    "    y: output with shape [batch_size, num_linears, input_dim]\n",
    "    '''\n",
    "    x_size = x.size()\n",
    "    x = x.view(x_size[0], -1)\n",
    "    output = module_list(x)\n",
    "    y = output.view(x_size[0], x_size[1], -1)\n",
    "    return y\n",
    "\n",
    "begin = time.time()\n",
    "x = torch.ones(batch_size, num_linears, input_dim).to(\"cuda:0\")\n",
    "y = deal_list_faster(ll, x)\n",
    "end = time.time()\n",
    "print(end-begin)"
   ]
  },
  {
   "cell_type": "code",
   "execution_count": 5,
   "metadata": {},
   "outputs": [
    {
     "data": {
      "text/plain": [
       "204.92411541515926"
      ]
     },
     "execution_count": 5,
     "metadata": {},
     "output_type": "execute_result"
    }
   ],
   "source": [
    "0.5537045001983643/0.002701997756958008"
   ]
  },
  {
   "cell_type": "code",
   "execution_count": null,
   "metadata": {},
   "outputs": [],
   "source": []
  }
 ],
 "metadata": {
  "kernelspec": {
   "display_name": "Python 3",
   "language": "python",
   "name": "python3"
  },
  "language_info": {
   "codemirror_mode": {
    "name": "ipython",
    "version": 3
   },
   "file_extension": ".py",
   "mimetype": "text/x-python",
   "name": "python",
   "nbconvert_exporter": "python",
   "pygments_lexer": "ipython3",
   "version": "3.7.6"
  }
 },
 "nbformat": 4,
 "nbformat_minor": 4
}
