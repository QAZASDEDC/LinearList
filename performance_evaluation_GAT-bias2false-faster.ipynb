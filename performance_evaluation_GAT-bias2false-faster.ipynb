{
 "cells": [
  {
   "cell_type": "markdown",
   "metadata": {},
   "source": [
    "# 2022.3.31"
   ]
  },
  {
   "cell_type": "code",
   "execution_count": 1,
   "metadata": {},
   "outputs": [],
   "source": [
    "DATASET = \"../dataset/MMS.csv\"\n",
    "TOPOLOGY = \"../dataset/MMS_topology.pk\"\n",
    "RESULT=\"../topomad-1-results/MMS_GAT\"\n",
    "NAME=\"performance_evaluation_GAT\""
   ]
  },
  {
   "cell_type": "code",
   "execution_count": 2,
   "metadata": {},
   "outputs": [],
   "source": [
    "import pandas as pd\n",
    "from graph_lstm_vae_ad_faster import GraphLSTM_VAE_AD\n",
    "from graph_lstm_vae_ad_faster import GraphLSTM_VAE\n",
    "import matplotlib.pyplot as plt\n",
    "from sklearn.metrics import roc_auc_score\n",
    "import numpy as np\n",
    "import os\n",
    "import pickle\n",
    "import time\n",
    "import torch\n",
    "os.environ[\"CUDA_VISIBLE_DEVICES\"] = \"0\"\n",
    "gpu_choice =0"
   ]
  },
  {
   "cell_type": "markdown",
   "metadata": {},
   "source": [
    "# 读数据"
   ]
  },
  {
   "cell_type": "code",
   "execution_count": 3,
   "metadata": {},
   "outputs": [],
   "source": [
    "data = pd.read_csv(DATASET, header=[0,1])"
   ]
  },
  {
   "cell_type": "markdown",
   "metadata": {},
   "source": [
    "# 参数"
   ]
  },
  {
   "cell_type": "code",
   "execution_count": 4,
   "metadata": {},
   "outputs": [],
   "source": [
    "seq_len = 10\n",
    "num_epo = 150\n",
    "hid_dim = 3\n",
    "lea_rat = 1e-4\n",
    "nod_num = 50\n",
    "sam_num = 20\n",
    "del_tol = 5\n",
    "tra_siz = len(data)//3*2"
   ]
  },
  {
   "cell_type": "markdown",
   "metadata": {},
   "source": [
    "# 预处理标准化"
   ]
  },
  {
   "cell_type": "code",
   "execution_count": 5,
   "metadata": {},
   "outputs": [
    {
     "name": "stderr",
     "output_type": "stream",
     "text": [
      "/home/user/anaconda3/lib/python3.7/site-packages/pandas/core/generic.py:3936: PerformanceWarning: dropping on a non-lexsorted multi-index without a level parameter may impact performance.\n",
      "  obj = obj._drop_axis(labels, axis, level=level, errors=errors)\n"
     ]
    }
   ],
   "source": [
    "metric = data.drop(['TimeStamp', 'label'], axis = 1)\n",
    "metric.columns.names = ['pod','metric']\n",
    "tempm = metric.swaplevel('metric','pod',axis=1).stack()\n",
    "tempm = (tempm-tempm.mean())/(tempm.std())\n",
    "metric = tempm.unstack().swaplevel('metric','pod',axis=1).stack().unstack()"
   ]
  },
  {
   "cell_type": "markdown",
   "metadata": {},
   "source": [
    "# 读拓扑"
   ]
  },
  {
   "cell_type": "code",
   "execution_count": 6,
   "metadata": {},
   "outputs": [],
   "source": [
    "with open(TOPOLOGY, 'rb') as f:\n",
    "    edge_index = pickle.load(f)"
   ]
  },
  {
   "cell_type": "markdown",
   "metadata": {},
   "source": [
    "# 训练VAE"
   ]
  },
  {
   "cell_type": "code",
   "execution_count": 7,
   "metadata": {
    "scrolled": true
   },
   "outputs": [
    {
     "name": "stdout",
     "output_type": "stream",
     "text": [
      "Epoch [150/150], Iter [60/63], total_loss: -3139.9795, recon_loss: -3251.1792, kl_loss: 111.1997\n",
      "valid_loss: [1797.2425220630787, 1792.7706344039352, 1794.1688006365741, 1796.021701388889, 1791.7787407769097, 1791.3928900824653, 1791.4117250795719, 1787.3687789351852, 1774.737765842014, 1757.5021656177662, 1735.7508770978009, 1700.36456072772, 1657.8076669198495, 1598.8004421657986, 1534.607132523148, 1464.7627179181134, 1393.8099591290509, 1318.2068549262153, 1241.9591200086807, 1167.203547724971, 1088.9635484483506, 1021.0960806387442, 951.195246943721, 881.5971498842592, 811.7305207429109, 745.710139521846, 683.5525625723379, 617.8870759186922, 555.2191648130064, 495.01986355251734, 432.7162939001013, 376.3482315628617, 318.09761103877315, 259.3723104971427, 204.5432691220884, 147.08499484592014, 95.11597866482205, 39.608976929276075, -11.23226766233091, -60.956920835706924, -115.09814862851744, -165.38826553909868, -212.9390174018012, -259.55972177010995, -308.5170581958912, -353.0006369131583, -398.8398844401042, -443.47210015190973, -488.46857480649595, -528.3235993561922, -572.0284469039352, -613.4020125777633, -653.8664663809317, -691.8036679868345, -731.2739574291088, -767.3073255750868, -805.4630104347511, -844.292955186632, -878.0325339988426, -915.3562056929977, -948.6951746057581, -985.0469767252604, -1016.1740180121528, -1048.8782574688946, -1082.7193852177372, -1114.6886234989872, -1149.1742666739005, -1177.9172227647568, -1206.9558512369792, -1237.2553620515046, -1266.9187373408565, -1299.334802698206, -1327.2678991247105, -1355.6784984447338, -1384.1067798755787, -1414.112951208044, -1443.0340395326969, -1466.565872757523, -1495.3166368272568, -1522.6987440321182, -1545.5413999204281, -1573.7779088903355, -1600.0789840133102, -1626.7043954354745, -1648.263355396412, -1671.5140832971645, -1701.2433132595486, -1726.1482340494792, -1748.9267261646412, -1772.308394820602, -1799.4995478877315, -1820.6731092664932, -1842.080982349537, -1864.3832013165509, -1888.8787389684605, -1910.92596661603, -1934.5868372034145, -1956.472109194155, -1981.030318648727, -2002.5057237413193, -2028.7577311197917, -2047.9793882016781, -2066.4502043547454, -2092.1611644603586, -2115.5165201822915, -2131.2792742693864, -2152.483556676794, -2173.695222077546, -2192.7771086516204, -2215.5243688512733, -2236.8589319299767, -2262.4892849392363, -2272.68810583044, -2295.048886899595, -2315.049442997685, -2335.0339717158563, -2355.7670808015046, -2373.5344871238426, -2394.659722222222, -2415.7025915075233, -2432.0976110387733, -2450.3046784577546, -2472.5390172887733, -2494.4460539641204, -2506.555329499421, -2530.8907335069443, -2545.906964337384, -2563.7138038917824, -2580.855523003472, -2603.3242277922454, -2621.626202618634, -2638.379322193287, -2656.296214916088, -2672.9157262731483, -2686.0326515480324, -2706.07921911169, -2725.6223777488426, -2744.1565031828704, -2759.6338975694443, -2782.8327003761574, -2794.8412724247687, -2808.931007667824, -2832.070674189815, -2844.3180881076387, -2859.7759150752313, -2879.047417534722, -2891.883617259838, -2912.3979040075233, -2928.165753399884]\n"
     ]
    },
    {
     "data": {
      "image/png": "[encoded data removed]",
      "text/plain": [
       "<Figure size 432x288 with 4 Axes>"
      ]
     },
     "metadata": {
      "needs_background": "light"
     },
     "output_type": "display_data"
    },
    {
     "name": "stderr",
     "output_type": "stream",
     "text": [
      "100%|██████████| 63/63 [00:20<00:00,  3.05it/s]\n",
      "100%|██████████| 27/27 [00:04<00:00,  6.69it/s]\n",
      "/home/user/hzl/bishe-mms/faster/graph_lstm_vae_ad_faster/graphlstm_vae_ad.py:238: SettingWithCopyWarning: \n",
      "A value is trying to be set on a copy of a slice from a DataFrame\n",
      "\n",
      "See the caveats in the documentation: https://pandas.pydata.org/pandas-docs/stable/user_guide/indexing.html#returning-a-view-versus-a-copy\n",
      "  X.interpolate(inplace=True)\n",
      "/home/user/anaconda3/lib/python3.7/site-packages/pandas/core/frame.py:4153: SettingWithCopyWarning: \n",
      "A value is trying to be set on a copy of a slice from a DataFrame\n",
      "\n",
      "See the caveats in the documentation: https://pandas.pydata.org/pandas-docs/stable/user_guide/indexing.html#returning-a-view-versus-a-copy\n",
      "  downcast=downcast,\n",
      "100%|██████████| 46/46 [02:05<00:00,  2.73s/it]\n",
      "100%|██████████| 91/91 [04:11<00:00,  2.76s/it]\n",
      "/home/user/hzl/bishe-mms/faster/graph_lstm_vae_ad_faster/graphlstm_vae_ad.py:312: SettingWithCopyWarning: \n",
      "A value is trying to be set on a copy of a slice from a DataFrame\n",
      "\n",
      "See the caveats in the documentation: https://pandas.pydata.org/pandas-docs/stable/user_guide/indexing.html#returning-a-view-versus-a-copy\n",
      "  X.interpolate(inplace=True)\n",
      "100%|██████████| 46/46 [00:08<00:00,  5.28it/s]\n"
     ]
    }
   ],
   "source": [
    "#checklist：ver，name，seedi，filename\n",
    "from sklearn.metrics import average_precision_score\n",
    "import pickle\n",
    "aps = []\n",
    "maps = []\n",
    "traintime150s = []\n",
    "testtimes = []\n",
    "for seedi in range(5):\n",
    "    model = GraphLSTM_VAE_AD(name=NAME+\"VAE\", sequence_length=seq_len, num_epochs=num_epo, hidden_dim=hid_dim, lr=lea_rat, gpu = gpu_choice, variational = True, kind = 'GAT',seed=seedi, head=(8,8),dropout=(0.4,0.4), bias=(True, False))\n",
    "    traintime150_start=time.time()\n",
    "    model.fit(metric[:tra_siz],nod_num, edge_index)\n",
    "    traintime150_end=time.time()\n",
    "    traintime150s.append(traintime150_end-traintime150_start)\n",
    "    \n",
    "    testtime_start=time.time()\n",
    "    pred = model.predict(metric[tra_siz:],nod_num, edge_index, sam_num, del_tol)[1]\n",
    "    testtime_end=time.time()\n",
    "    testtimes.append(testtime_end-testtime_start)\n",
    "    \n",
    "    \n",
    "    pred_t = model.predict(metric[:tra_siz], nod_num, edge_index, sam_num, del_tol)[1]\n",
    "    itp=model.interpret(metric[tra_siz:],nod_num, edge_index, sam_num, del_tol)\n",
    "    \n",
    "    ap = average_precision_score(data['label'][tra_siz+seq_len-del_tol:],pred)\n",
    "    aps.append(ap)\n",
    "    \n",
    "    mapp = np.mean((average_precision_score(data['label'][tra_siz+seq_len-del_tol:],pred), average_precision_score(1-data['label'][tra_siz+seq_len-del_tol:],-pred)))\n",
    "    maps.append(mapp)"
   ]
  },
  {
   "cell_type": "code",
   "execution_count": 8,
   "metadata": {},
   "outputs": [
    {
     "name": "stdout",
     "output_type": "stream",
     "text": [
      "[0.44546379299195243, 0.446228654079362, 0.4429879274242494, 0.4463454411725116, 0.445277909737149]\n",
      "[0.7010292781148034, 0.7013511990329346, 0.7001372768209961, 0.7011541733236337, 0.7004709792910512]\n"
     ]
    }
   ],
   "source": [
    "print(aps)\n",
    "print(maps)"
   ]
  },
  {
   "cell_type": "code",
   "execution_count": 9,
   "metadata": {},
   "outputs": [
    {
     "data": {
      "text/plain": [
       "0.7008285813166838"
      ]
     },
     "execution_count": 9,
     "metadata": {},
     "output_type": "execute_result"
    }
   ],
   "source": [
    "np.mean(maps)"
   ]
  },
  {
   "cell_type": "code",
   "execution_count": 10,
   "metadata": {},
   "outputs": [
    {
     "data": {
      "text/plain": [
       "0.4452607450810449"
      ]
     },
     "execution_count": 10,
     "metadata": {},
     "output_type": "execute_result"
    }
   ],
   "source": [
    "np.mean(aps)"
   ]
  },
  {
   "cell_type": "code",
   "execution_count": 11,
   "metadata": {},
   "outputs": [
    {
     "name": "stdout",
     "output_type": "stream",
     "text": [
      "[3732.759813785553, 3788.3246517181396, 3635.5087356567383, 3523.102861881256, 3559.9291837215424]\n"
     ]
    }
   ],
   "source": [
    "print(traintime150s)"
   ]
  },
  {
   "cell_type": "code",
   "execution_count": 12,
   "metadata": {},
   "outputs": [
    {
     "data": {
      "text/plain": [
       "60.7987508225441"
      ]
     },
     "execution_count": 12,
     "metadata": {},
     "output_type": "execute_result"
    }
   ],
   "source": [
    "np.mean(traintime150s)/60"
   ]
  },
  {
   "cell_type": "code",
   "execution_count": null,
   "metadata": {},
   "outputs": [],
   "source": []
  }
 ],
 "metadata": {
  "kernelspec": {
   "display_name": "Python 3",
   "language": "python",
   "name": "python3"
  },
  "language_info": {
   "codemirror_mode": {
    "name": "ipython",
    "version": 3
   },
   "file_extension": ".py",
   "mimetype": "text/x-python",
   "name": "python",
   "nbconvert_exporter": "python",
   "pygments_lexer": "ipython3",
   "version": "3.7.6"
  }
 },
 "nbformat": 4,
 "nbformat_minor": 4
}
